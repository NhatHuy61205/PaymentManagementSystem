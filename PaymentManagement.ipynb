{
 "cells": [
  {
   "cell_type": "code",
   "execution_count": null,
   "metadata": {},
   "outputs": [],
   "source": [
    "pip install mysql-connector-python\n"
   ]
  },
  {
   "cell_type": "code",
   "execution_count": 8,
   "metadata": {},
   "outputs": [
    {
     "name": "stdout",
     "output_type": "stream",
     "text": [
      "Kết nối thành công!\n"
     ]
    }
   ],
   "source": [
    "# test kết nối \n",
    "import mysql.connector\n",
    "\n",
    "connection = mysql.connector.connect(\n",
    "    host=\"127.0.0.1\",\n",
    "    user=\"huyy\",     \n",
    "    password=\"Huybui1206\", \n",
    "    database=\"cafe_payment_system\"  \n",
    ")\n",
    "if connection.is_connected():\n",
    "    print(\"Kết nối thành công!\")\n",
    "else:\n",
    "    print(\"Kết nối thất bại.\")\n",
    "    \n",
    "    \n",
    "connection.close()"
   ]
  },
  {
   "cell_type": "markdown",
   "metadata": {},
   "source": [
    "### Main Menu"
   ]
  },
  {
   "cell_type": "code",
   "execution_count": 9,
   "metadata": {},
   "outputs": [
    {
     "name": "stdout",
     "output_type": "stream",
     "text": [
      "-----------------------  [ Welcome to H & D Cafe Shop Management System ]  -----------------------\n"
     ]
    }
   ],
   "source": [
    "import mysql.connector as conn\n",
    "import main_menu \n",
    "from login import Usern, Userp\n",
    "\n",
    "print(\"-----------------------  [ Welcome to H & D Cafe Shop Management System ]  -----------------------\")\n",
    "# Goi ham menu\n",
    "print(\"1 -> Sign Up \\n\"\n",
    "      \"2 -> Sign In\")\n",
    "sign = int(input(\"Enter your choice: \"))\n",
    "count = 0\n",
    "if sign == 1:\n",
    "    #Goi ham dang ky\n",
    "    print(\"Restart the software to Login.....:)\")\n",
    "elif sign == 2:\n",
    "    # Tao ham dang nhap xong truyen vao menu\n",
    "    x = Usern()\n",
    "    y = Userp()\n",
    "    main_menu(x, y, count)\n",
    "else:\n",
    "    print(\"Wrong\")"
   ]
  }
 ],
 "metadata": {
  "kernelspec": {
   "display_name": "base",
   "language": "python",
   "name": "python3"
  },
  "language_info": {
   "codemirror_mode": {
    "name": "ipython",
    "version": 3
   },
   "file_extension": ".py",
   "mimetype": "text/x-python",
   "name": "python",
   "nbconvert_exporter": "python",
   "pygments_lexer": "ipython3",
   "version": "3.11.7"
  }
 },
 "nbformat": 4,
 "nbformat_minor": 2
}
